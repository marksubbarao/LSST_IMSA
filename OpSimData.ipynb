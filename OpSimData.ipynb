{
 "cells": [
  {
   "cell_type": "markdown",
   "metadata": {},
   "source": [
    "# Accessing LSST Operations Simulator datasets\n",
    "\n",
    "Here we will access outputs from the LSST Operations Simulator. These outputs are stored in an SQLite database"
   ]
  },
  {
   "cell_type": "code",
   "execution_count": 113,
   "metadata": {
    "collapsed": false
   },
   "outputs": [],
   "source": [
    "#Imports\n",
    "import sqlite3\n",
    "from astropy.time import Time\n",
    "from astropy.table import Table,Column\n",
    "from astropy import units as u\n",
    "from astropy.coordinates import ICRS, CartesianRepresentation, SkyCoord, Distance"
   ]
  },
  {
   "cell_type": "code",
   "execution_count": 31,
   "metadata": {
    "collapsed": false
   },
   "outputs": [],
   "source": [
    "con = sqlite3.connect('/Users/Nick/Desktop/enigma_1189_sqlite.db 2')"
   ]
  },
  {
   "cell_type": "code",
   "execution_count": 32,
   "metadata": {
    "collapsed": false
   },
   "outputs": [
    {
     "name": "stdout",
     "output_type": "stream",
     "text": [
      "[(u'Session',), (u'Config',), (u'Field',), (u'ObsHistory',), (u'Proposal',), (u'SeqHistory',), (u'SlewHistory',), (u'SlewActivities',), (u'SlewState',), (u'SlewMaxSpeeds',), (u'TimeHistory',), (u'ObsHistory_Proposal',), (u'Cloud',), (u'Seeing',), (u'Log',), (u'Config_File',), (u'Proposal_Field',), (u'SeqHistory_ObsHistory',), (u'MissedHistory',), (u'SeqHistory_MissedHistory',), (u'Summary',)]\n"
     ]
    }
   ],
   "source": [
    "cursor = con.cursor()\n",
    "cursor.execute(\"SELECT name FROM sqlite_master WHERE type='table';\")\n",
    "print(cursor.fetchall())"
   ]
  },
  {
   "cell_type": "code",
   "execution_count": 36,
   "metadata": {
    "collapsed": false
   },
   "outputs": [
    {
     "name": "stdout",
     "output_type": "stream",
     "text": [
      "(0, u'obsHistID', u'INTEGER', 0, None, 1)\n",
      "(1, u'Session_sessionID', u'INTEGER', 0, None, 0)\n",
      "(2, u'filter', u'TEXT', 0, None, 0)\n",
      "(3, u'expDate', u'INTEGER', 0, None, 0)\n",
      "(4, u'expMJD', u'REAL', 0, None, 0)\n",
      "(5, u'night', u'INTEGER', 0, None, 0)\n",
      "(6, u'visitTime', u'REAL', 0, None, 0)\n",
      "(7, u'visitExpTime', u'REAL', 0, None, 0)\n",
      "(8, u'finRank', u'REAL', 0, None, 0)\n",
      "(9, u'finSeeing', u'REAL', 0, None, 0)\n",
      "(10, u'transparency', u'REAL', 0, None, 0)\n",
      "(11, u'airmass', u'REAL', 0, None, 0)\n",
      "(12, u'vSkyBright', u'REAL', 0, None, 0)\n",
      "(13, u'filtSkyBrightness', u'REAL', 0, None, 0)\n",
      "(14, u'rotSkyPos', u'REAL', 0, None, 0)\n",
      "(15, u'lst', u'REAL', 0, None, 0)\n",
      "(16, u'altitude', u'REAL', 0, None, 0)\n",
      "(17, u'azimuth', u'REAL', 0, None, 0)\n",
      "(18, u'dist2Moon', u'REAL', 0, None, 0)\n",
      "(19, u'solarElong', u'REAL', 0, None, 0)\n",
      "(20, u'moonRA', u'REAL', 0, None, 0)\n",
      "(21, u'moonDec', u'REAL', 0, None, 0)\n",
      "(22, u'moonAlt', u'REAL', 0, None, 0)\n",
      "(23, u'moonAZ', u'REAL', 0, None, 0)\n",
      "(24, u'moonPhase', u'REAL', 0, None, 0)\n",
      "(25, u'sunAlt', u'REAL', 0, None, 0)\n",
      "(26, u'sunAZ', u'REAL', 0, None, 0)\n",
      "(27, u'phaseAngle', u'REAL', 0, None, 0)\n",
      "(28, u'rScatter', u'REAL', 0, None, 0)\n",
      "(29, u'mieScatter', u'REAL', 0, None, 0)\n",
      "(30, u'moonIllum', u'REAL', 0, None, 0)\n",
      "(31, u'moonBright', u'REAL', 0, None, 0)\n",
      "(32, u'darkBright', u'REAL', 0, None, 0)\n",
      "(33, u'rawSeeing', u'REAL', 0, None, 0)\n",
      "(34, u'wind', u'REAL', 0, None, 0)\n",
      "(35, u'humidity', u'REAL', 0, None, 0)\n",
      "(36, u'fiveSigmaDepth', u'REAL', 0, None, 0)\n",
      "(37, u'ditheredRA', u'REAL', 0, None, 0)\n",
      "(38, u'ditheredDec', u'REAL', 0, None, 0)\n",
      "(39, u'Field_fieldID', u'INTEGER', 0, None, 0)\n"
     ]
    }
   ],
   "source": [
    "for row in con.execute(\"pragma table_info('ObsHistory')\").fetchall():\n",
    "  print row"
   ]
  },
  {
   "cell_type": "code",
   "execution_count": 91,
   "metadata": {
    "collapsed": false,
    "scrolled": true
   },
   "outputs": [
    {
     "name": "stdout",
     "output_type": "stream",
     "text": [
      "(49500.000082, u'g')\n",
      "(49500.000526, u'g')\n",
      "(49500.00097, u'g')\n",
      "(49500.001415, u'g')\n",
      "(49500.001859, u'g')\n",
      "(49500.002304, u'g')\n",
      "(49500.00272, u'g')\n",
      "(49500.003165, u'g')\n",
      "(49500.003614, u'g')\n",
      "(49500.004059, u'g')\n"
     ]
    }
   ],
   "source": [
    "cursor = con.cursor()\n",
    "cursor.execute(\"SELECT expMJD,filter FROM ObsHistory WHERE expMJD > 49500 and expMJD < 49501;\")\n",
    "for i in range (10):\n",
    "    print(cursor.fetchone())"
   ]
  },
  {
   "cell_type": "code",
   "execution_count": 105,
   "metadata": {
    "collapsed": false
   },
   "outputs": [
    {
     "name": "stdout",
     "output_type": "stream",
     "text": [
      "(49500.000082,)\n",
      "(49500.000526,)\n",
      "(49500.00097,)\n",
      "(49500.001415,)\n",
      "(49500.001859,)\n",
      "(49500.002304,)\n",
      "(49500.00272,)\n",
      "(49500.003165,)\n",
      "(49500.003614,)\n",
      "(49500.004059,)\n"
     ]
    }
   ],
   "source": [
    "from astropy.time import Time\n",
    "cursor.execute(\"SELECT expMJD FROM ObsHistory WHERE expMJD > 49500 and expMJD < 49501;\")\n",
    "for i in range (10):\n",
    "    print(cursor.fetchone())"
   ]
  },
  {
   "cell_type": "code",
   "execution_count": 169,
   "metadata": {
    "collapsed": false
   },
   "outputs": [
    {
     "data": {
      "text/plain": [
       "array([[['1998-07-28 00:00:38.102'],\n",
       "        ['1998-07-28 00:01:28.646'],\n",
       "        ['1998-07-28 00:02:07.181'],\n",
       "        ..., \n",
       "        ['1998-07-28 23:58:14.851'],\n",
       "        ['1998-07-28 23:58:58.570'],\n",
       "        ['1998-07-28 23:59:37.363']]], \n",
       "      dtype='|S23')"
      ]
     },
     "execution_count": 169,
     "metadata": {},
     "output_type": "execute_result"
    }
   ],
   "source": [
    "from astropy.time import Time\n",
    "cursor = con.cursor()\n",
    "MY = []\n",
    "TIM = []\n",
    "cursor.execute('SELECT expMJD FROM ObsHistory WHERE expMJD >51022 and expMJD < 51023;')\n",
    "for i in range (1015):\n",
    "    MY.insert(i,cursor.fetchone())\n",
    "d= Time([MY], format='mjd', scale='utc')\n",
    "d = d.iso\n",
    "d"
   ]
  },
  {
   "cell_type": "code",
   "execution_count": 170,
   "metadata": {
    "collapsed": false
   },
   "outputs": [
    {
     "data": {
      "text/html": [
       "&lt;Table masked=False length=1015&gt;\n",
       "<table id=\"table4409705424\">\n",
       "<thead><tr><th>col0 [1]</th><th>col1 [1]</th></tr></thead>\n",
       "<thead><tr><th>float64</th><th>float64</th></tr></thead>\n",
       "<tr><td>3.182779</td><td>-0.664723</td></tr>\n",
       "<tr><td>3.112325</td><td>-0.933508</td></tr>\n",
       "<tr><td>3.110155</td><td>-0.982692</td></tr>\n",
       "<tr><td>3.201302</td><td>-1.005394</td></tr>\n",
       "<tr><td>3.197022</td><td>-0.956347</td></tr>\n",
       "<tr><td>3.286947</td><td>-0.975353</td></tr>\n",
       "<tr><td>3.38153</td><td>-0.990445</td></tr>\n",
       "<tr><td>3.480019</td><td>-1.00164</td></tr>\n",
       "<tr><td>3.548379</td><td>-0.962181</td></tr>\n",
       "<tr><td>3.696609</td><td>-0.92332</td></tr>\n",
       "<tr><td>...</td><td>...</td></tr>\n",
       "<tr><td>4.017906</td><td>-0.817794</td></tr>\n",
       "<tr><td>4.056001</td><td>-0.719059</td></tr>\n",
       "<tr><td>4.089015</td><td>-0.617821</td></tr>\n",
       "<tr><td>4.009666</td><td>-0.676234</td></tr>\n",
       "<tr><td>4.02918</td><td>-0.625426</td></tr>\n",
       "<tr><td>4.048383</td><td>-0.573858</td></tr>\n",
       "<tr><td>3.931941</td><td>-0.58559</td></tr>\n",
       "<tr><td>3.845963</td><td>-0.639094</td></tr>\n",
       "<tr><td>3.785789</td><td>-0.736883</td></tr>\n",
       "<tr><td>3.750838</td><td>-0.784634</td></tr>\n",
       "</table>"
      ],
      "text/plain": [
       "<Table masked=False length=1015>\n",
       "col0 [1]  col1 [1]\n",
       "float64   float64 \n",
       "-------- ---------\n",
       "3.182779 -0.664723\n",
       "3.112325 -0.933508\n",
       "3.110155 -0.982692\n",
       "3.201302 -1.005394\n",
       "3.197022 -0.956347\n",
       "3.286947 -0.975353\n",
       " 3.38153 -0.990445\n",
       "3.480019  -1.00164\n",
       "3.548379 -0.962181\n",
       "3.696609  -0.92332\n",
       "     ...       ...\n",
       "4.017906 -0.817794\n",
       "4.056001 -0.719059\n",
       "4.089015 -0.617821\n",
       "4.009666 -0.676234\n",
       " 4.02918 -0.625426\n",
       "4.048383 -0.573858\n",
       "3.931941  -0.58559\n",
       "3.845963 -0.639094\n",
       "3.785789 -0.736883\n",
       "3.750838 -0.784634"
      ]
     },
     "execution_count": 170,
     "metadata": {},
     "output_type": "execute_result"
    }
   ],
   "source": [
    "cursor = con.cursor()\n",
    "RA = []\n",
    "Dec = []\n",
    "cursor.execute(\"SELECT ditheredRA FROM ObsHistory WHERE expMJD > 51022 and expMJD < 51023;\")\n",
    "for x in range(0,1015):\n",
    "    RA.insert(x,cursor.fetchone())\n",
    "cursor.execute(\"SELECT ditheredDec FROM ObsHistory WHERE expMJD > 51022 and expMJD < 51023;\")\n",
    "for x in range(0,1015):\n",
    "    Dec.insert(x,cursor.fetchone())\n",
    "t = Table([RA,Dec])\n",
    "t"
   ]
  },
  {
   "cell_type": "code",
   "execution_count": 177,
   "metadata": {
    "collapsed": false
   },
   "outputs": [
    {
     "ename": "TypeError",
     "evalue": "tuple indices must be integers, not str",
     "output_type": "error",
     "traceback": [
      "\u001b[0;31m---------------------------------------------------------------------------\u001b[0m",
      "\u001b[0;31mTypeError\u001b[0m                                 Traceback (most recent call last)",
      "\u001b[0;32m<ipython-input-177-6270303b9910>\u001b[0m in \u001b[0;36m<module>\u001b[0;34m()\u001b[0m\n\u001b[1;32m     11\u001b[0m \u001b[0mget_ipython\u001b[0m\u001b[0;34m(\u001b[0m\u001b[0;34m)\u001b[0m\u001b[0;34m.\u001b[0m\u001b[0mmagic\u001b[0m\u001b[0;34m(\u001b[0m\u001b[0;34mu'matplotlib inline'\u001b[0m\u001b[0;34m)\u001b[0m\u001b[0;34m\u001b[0m\u001b[0m\n\u001b[1;32m     12\u001b[0m \u001b[0;32mimport\u001b[0m \u001b[0mseaborn\u001b[0m\u001b[0;34m\u001b[0m\u001b[0m\n\u001b[0;32m---> 13\u001b[0;31m \u001b[0mPNeCoords\u001b[0m\u001b[0;34m=\u001b[0m\u001b[0mSkyCoord\u001b[0m\u001b[0;34m(\u001b[0m\u001b[0;34m'RA'\u001b[0m\u001b[0;34m,\u001b[0m\u001b[0;34m'Dec'\u001b[0m\u001b[0;34m,\u001b[0m\u001b[0munit\u001b[0m\u001b[0;34m=\u001b[0m\u001b[0;34m(\u001b[0m\u001b[0mu\u001b[0m\u001b[0;34m.\u001b[0m\u001b[0mdegree\u001b[0m\u001b[0;34m,\u001b[0m \u001b[0mu\u001b[0m\u001b[0;34m.\u001b[0m\u001b[0mdegree\u001b[0m\u001b[0;34m)\u001b[0m\u001b[0;34m,\u001b[0m                   \u001b[0mdistance\u001b[0m\u001b[0;34m=\u001b[0m\u001b[0mDistance\u001b[0m\u001b[0;34m(\u001b[0m\u001b[0mPNeCat\u001b[0m\u001b[0;34m[\u001b[0m\u001b[0;34m'Dist'\u001b[0m\u001b[0;34m]\u001b[0m\u001b[0;34m,\u001b[0m\u001b[0mu\u001b[0m\u001b[0;34m.\u001b[0m\u001b[0mpc\u001b[0m\u001b[0;34m)\u001b[0m\u001b[0;34m,\u001b[0m\u001b[0mframe\u001b[0m\u001b[0;34m=\u001b[0m\u001b[0;34m'icrs'\u001b[0m\u001b[0;34m)\u001b[0m\u001b[0;34m\u001b[0m\u001b[0m\n\u001b[0m\u001b[1;32m     14\u001b[0m \u001b[0mfig\u001b[0m \u001b[0;34m=\u001b[0m \u001b[0mplt\u001b[0m\u001b[0;34m.\u001b[0m\u001b[0mfigure\u001b[0m \u001b[0;34m(\u001b[0m\u001b[0mfigsize\u001b[0m\u001b[0;34m=\u001b[0m\u001b[0;34m(\u001b[0m\u001b[0;36m13\u001b[0m\u001b[0;34m,\u001b[0m\u001b[0;36m6\u001b[0m\u001b[0;34m)\u001b[0m\u001b[0;34m)\u001b[0m\u001b[0;34m\u001b[0m\u001b[0m\n\u001b[1;32m     15\u001b[0m \u001b[0max\u001b[0m \u001b[0;34m=\u001b[0m \u001b[0mfig\u001b[0m\u001b[0;34m.\u001b[0m\u001b[0madd_subplot\u001b[0m\u001b[0;34m(\u001b[0m\u001b[0;36m111\u001b[0m\u001b[0;34m,\u001b[0m\u001b[0mprojection\u001b[0m\u001b[0;34m=\u001b[0m\u001b[0;34m\"mollweide\"\u001b[0m\u001b[0;34m)\u001b[0m\u001b[0;34m\u001b[0m\u001b[0m\n",
      "\u001b[0;31mTypeError\u001b[0m: tuple indices must be integers, not str"
     ]
    }
   ],
   "source": [
    "from astropy.table import Table,Column\n",
    "from astropy.coordinates import SkyCoord, Distance\n",
    "from astropy.io.votable import from_table, writeto\n",
    "from astropy import units as u\n",
    "from astroquery.vizier import Vizier\n",
    "v = Vizier()\n",
    "v.ROW_LIMIT = -1\n",
    "%config InlineBackend.rc = {}\n",
    "import matplotlib\n",
    "import matplotlib.pyplot as plt\n",
    "%matplotlib inline\n",
    "import seaborn\n",
    "PNeCoords=SkyCoord('RA','Dec',unit=(u.degree, u.degree),\\\n",
    "                   distance=Distance(PNeCat['Dist'],u.pc),frame='icrs')\n",
    "fig = plt.figure (figsize=(13,6))\n",
    "ax = fig.add_subplot(111,projection=\"mollweide\")\n",
    "ax.grid(True)\n",
    "ax.set_title(\"Planetary Nebulae\")\n",
    "ax.scatter(PNeCoords.galactic.l.wrap_at(180.*u.degree).radian,PNeCoords.galactic.b.radian,c=\"green\")"
   ]
  },
  {
   "cell_type": "code",
   "execution_count": null,
   "metadata": {
    "collapsed": true
   },
   "outputs": [],
   "source": []
  }
 ],
 "metadata": {
  "kernelspec": {
   "display_name": "Python 2",
   "language": "python",
   "name": "python2"
  },
  "language_info": {
   "codemirror_mode": {
    "name": "ipython",
    "version": 2
   },
   "file_extension": ".py",
   "mimetype": "text/x-python",
   "name": "python",
   "nbconvert_exporter": "python",
   "pygments_lexer": "ipython2",
   "version": "2.7.10"
  }
 },
 "nbformat": 4,
 "nbformat_minor": 0
}
